{
 "cells": [
  {
   "cell_type": "code",
   "execution_count": 1,
   "metadata": {},
   "outputs": [],
   "source": [
    "%load_ext autoreload\n",
    "\n",
    "%autoreload 2\n",
    "import numpy as np\n",
    "import dynet as dy\n",
    "import matplotlib.pyplot as plt\n",
    "\n",
    "import ipywidgets as widgets\n",
    "from ipywidgets import interact, interactive, fixed, interact_manual\n",
    "\n",
    "%matplotlib inline\n",
    "\n",
    "from infer import WrappedTagger\n",
    "from utils import Instance\n",
    "\n",
    "import seaborn as sns\n",
    "sns.set()"
   ]
  },
  {
   "cell_type": "markdown",
   "metadata": {},
   "source": [
    "### Datasets/Models"
   ]
  },
  {
   "cell_type": "code",
   "execution_count": 2,
   "metadata": {},
   "outputs": [
    {
     "name": "stdout",
     "output_type": "stream",
     "text": [
      "Using legacy loading\n"
     ]
    }
   ],
   "source": [
    "model = WrappedTagger('datasets/ud-2.3/en_ud23.pkl',\n",
    "                      num_lstm_layers=2,\n",
    "                      hidden_dim=128,\n",
    "                      char_embedding_dim=256,\n",
    "                      word_level_dim=128)\n",
    "model.load_weights('models/en/best_model_epoch-32-0.9365.bin')"
   ]
  },
  {
   "cell_type": "markdown",
   "metadata": {},
   "source": [
    "### Available Alphabet "
   ]
  },
  {
   "cell_type": "code",
   "execution_count": 3,
   "metadata": {},
   "outputs": [
    {
     "name": "stdout",
     "output_type": "stream",
     "text": [
      "! \" # $ % & ' ( ) * + , - . / 0 1 2 3 4 5 6 7 8 9 : ; < <*> = > ? @ A B C D E F G H I J K L M N O P Q R S T U V W X Y Z [ \\ ] ^ _ ` a b c d e f g h i j k l m n o p q r s t u v w x y z { | } ~ £ ­ ³ ´ · Ã à á ç é Υ – — ‘ ’ “ ” … ♥\n"
     ]
    }
   ],
   "source": [
    "print(' '.join(sorted(model.dataset.c2i.keys())))"
   ]
  },
  {
   "cell_type": "code",
   "execution_count": 4,
   "metadata": {
    "collapsed": true
   },
   "outputs": [],
   "source": [
    "def show(sentence, dim=0):\n",
    "    f, a = plt.subplots(1, figsize=(8, 8))\n",
    "    out_tags, embeddings = model.forward_text(sentence)\n",
    "    #this is the word level prediction!\n",
    "    print(model.get_pos(out_tags))\n",
    "    activations = []\n",
    "    \n",
    "    padded_ascii = []\n",
    "    for word, word_embedding in zip(sentence.split(), embeddings):\n",
    "        for char, char_embedding in zip('*' + word + '*', word_embedding):\n",
    "            if char == '*':\n",
    "                activations.append(np.nan)\n",
    "                padded_ascii.append(' ')\n",
    "            else:\n",
    "                activations.append(char_embedding.npvalue()[dim])\n",
    "                padded_ascii.append(char)\n",
    "    a.plot(activations)\n",
    "    a.set_xticks(range(len(activations)))\n",
    "    a.set_xticklabels(padded_ascii)\n",
    "    a.xaxis.set_ticks_position('none')"
   ]
  },
  {
   "cell_type": "code",
   "execution_count": 5,
   "metadata": {},
   "outputs": [],
   "source": [
    "# #expects space tokenized inputs\n",
    "# show('There are two wugs .', dim=0);"
   ]
  },
  {
   "cell_type": "markdown",
   "metadata": {},
   "source": [
    "### Interactive "
   ]
  },
  {
   "cell_type": "code",
   "execution_count": 6,
   "metadata": {},
   "outputs": [
    {
     "data": {
      "application/vnd.jupyter.widget-view+json": {
       "model_id": "bcf449f73de9479f8d1b9197bfa02c63",
       "version_major": 2,
       "version_minor": 0
      },
      "text/plain": [
       "interactive(children=(Text(value='Now there are two of them .', continuous_update=False, description='sentence…"
      ]
     },
     "metadata": {},
     "output_type": "display_data"
    }
   ],
   "source": [
    "word_input = widgets.Text(value='Now there are two of them .', continuous_update=False)\n",
    "dim_input = widgets.IntSlider(min = 0, max = 127, step = 1, value = 0, continuous_update=False)\n",
    "plot = interactive(show, sentence=word_input, dim=dim_input)\n",
    "output = plot.children[-1]\n",
    "output.layout.height = '600px'\n",
    "plot"
   ]
  }
 ],
 "metadata": {
  "kernelspec": {
   "display_name": "Python (char-eyes)",
   "language": "python",
   "name": "char"
  },
  "language_info": {
   "codemirror_mode": {
    "name": "ipython",
    "version": 3
   },
   "file_extension": ".py",
   "mimetype": "text/x-python",
   "name": "python",
   "nbconvert_exporter": "python",
   "pygments_lexer": "ipython3",
   "version": "3.6.8"
  }
 },
 "nbformat": 4,
 "nbformat_minor": 2
}
